{
 "cells": [
  {
   "cell_type": "markdown",
   "metadata": {},
   "source": [
    "# SANTOSH PHANI VISHNU AITA, UBID: SAITA\n",
    "# HARSHA KOSTA, UBID: HARSHAKO"
   ]
  },
  {
   "cell_type": "code",
   "execution_count": 17,
   "metadata": {
    "scrolled": true
   },
   "outputs": [
    {
     "name": "stdout",
     "output_type": "stream",
     "text": [
      "abcÿ\n"
     ]
    },
    {
     "data": {
      "text/plain": [
       "'abc'"
      ]
     },
     "execution_count": 17,
     "metadata": {},
     "output_type": "execute_result"
    }
   ],
   "source": [
    "s = \"abc\\xFF\"\n",
    "print (s) # Note how last character isn’t a letter\n",
    "s.encode().decode(\"ascii\", \"ignore\")"
   ]
  },
  {
   "cell_type": "markdown",
   "metadata": {},
   "source": [
    "# "
   ]
  },
  {
   "cell_type": "code",
   "execution_count": 38,
   "metadata": {},
   "outputs": [
    {
     "name": "stdout",
     "output_type": "stream",
     "text": [
      "                Name  Age   Birthdate First Name Last Name\n",
      "0  Ms. Janice Joplin   65  1943-01-19     Janice    Joplin\n",
      "1         Bob Dylan    74  1941-03-24        Bob     Dylan\n",
      "2     Billy Ray Joel   66  1941-02-09      Billy      Joel\n"
     ]
    }
   ],
   "source": [
    "def get_first_last_name(s):\n",
    "    INVALID_NAME_PARTS = [\"mr\", \"ms\", \"mrs\",\"dr\", \"jr\", \"sir\"]\n",
    "    parts = s.lower().replace(\".\",\"\").strip().split()\n",
    "    parts = [p for p in parts\n",
    "    if p not in INVALID_NAME_PARTS]\n",
    "    if len(parts)==0:\n",
    "        raise ValueError(\"Name %s is formatted wrong\" % s) \n",
    "    first, last = parts[0], parts[-1] \n",
    "    first = first[0].upper() + first[1:]\n",
    "    last = last[0].upper() + last[1:]\n",
    "    return first, last\n",
    "\n",
    "def format_age(s):\n",
    "    chars = list(s) # list of characters\n",
    "    digit_chars = [c for c in chars if c.isdigit()]\n",
    "    return int(\"\".join(digit_chars))\n",
    "\n",
    "def format_date(s):\n",
    "    MONTH_MAP = {\"jan\": \"01\", \"feb\": \"02\", \"may\": \"03\"}\n",
    "    s = s.strip().lower().replace(\",\", \"\")\n",
    "    m, d, y = s.split()\n",
    "    if len(y) == 2:\n",
    "        y = \"19\" + y\n",
    "    if len(d) == 1:\n",
    "        d = \"0\" + d\n",
    "    return y + \"-\" + MONTH_MAP[m[:3]] + \"-\" + d\n",
    "    \n",
    "import pandas as pd\n",
    "df = pd.read_csv(\"file.tsv\", sep=\"|\")\n",
    "df[\"First Name\"] = df[\"Name\"].apply(lambda s: get_first_last_name(s)[0])\n",
    "df[\"Last Name\"] = df[\"Name\"].apply(lambda s: get_first_last_name(s)[1])\n",
    "df[\"Age\"] = df[\"Age\"].apply(format_age)\n",
    "df[\"Birthdate\"] = df[\"Birthdate\"].apply(format_date).astype(pd.datetime)\n",
    "print (df)"
   ]
  },
  {
   "cell_type": "markdown",
   "metadata": {},
   "source": [
    "# "
   ]
  },
  {
   "cell_type": "code",
   "execution_count": 26,
   "metadata": {},
   "outputs": [
    {
     "data": {
      "text/plain": [
       "datetime.datetime(2013, 8, 13, 4, 15)"
      ]
     },
     "execution_count": 26,
     "metadata": {},
     "output_type": "execute_result"
    }
   ],
   "source": [
    "import dateutil.parser as p\n",
    "p.parse(\"August 13, 1985\")\n",
    "\n",
    "p.parse(\"2013-8-13\")\n",
    "\n",
    "p.parse(\"2013-8-13 4:15am\")"
   ]
  },
  {
   "cell_type": "markdown",
   "metadata": {},
   "source": [
    "# "
   ]
  },
  {
   "cell_type": "code",
   "execution_count": 72,
   "metadata": {},
   "outputs": [
    {
     "name": "stdout",
     "output_type": "stream",
     "text": [
      "[]\n"
     ]
    }
   ],
   "source": [
    "import re\n",
    "# This matches \"1600 Pennsylvania Ave.\"\n",
    "# It does NOT match \"5 Stony Brook St\"\n",
    "# cuz there is a space in \"Stony Brook\"\n",
    "street_pattern = r\"^[0-9]\\s[A-Z][a-z]*\" + \\\n",
    "r\"(Street|St|Rd|Road|Ave|Avenue|Blvd|Way|Wy)\\.?$\"\n",
    "# Like the one above, this assumes\n",
    "# there is no space in the town name\n",
    "city_pattern = r\"^[A-Z][a-z]*,\\s[A-Z]{2},[0-9]{5}$\"\n",
    "address_pattern = street_pattern + r\"\\n\" + city_pattern\n",
    "# Compile the string into a regular expression object\n",
    "address_re = re.compile(address_pattern)\n",
    "text = open(\"some_file.txt\", \"r\").read()\n",
    "matches = re.findall(address_re, text)\n",
    "print(matches)\n",
    "# list of all strings that match\n",
    "open(\"addresses_w_space_between.txt\",\"w\").write(\"\\n\\n\".join(matches))\n",
    "pattern = \"\\n\"\n",
    "my_re = re.compile(pattern) # trying to match a newline\n",
    "# Escape the slash w another\n",
    "slash_pattern = \"\\\\n\"\n",
    "# This matches a newline\n",
    "newline_re = re.compile(pattern)"
   ]
  },
  {
   "cell_type": "markdown",
   "metadata": {},
   "source": [
    "# "
   ]
  },
  {
   "cell_type": "code",
   "execution_count": null,
   "metadata": {},
   "outputs": [],
   "source": []
  },
  {
   "cell_type": "code",
   "execution_count": null,
   "metadata": {},
   "outputs": [],
   "source": []
  }
 ],
 "metadata": {
  "kernelspec": {
   "display_name": "Python 3",
   "language": "python",
   "name": "python3"
  },
  "language_info": {
   "codemirror_mode": {
    "name": "ipython",
    "version": 3
   },
   "file_extension": ".py",
   "mimetype": "text/x-python",
   "name": "python",
   "nbconvert_exporter": "python",
   "pygments_lexer": "ipython3",
   "version": "3.6.3"
  }
 },
 "nbformat": 4,
 "nbformat_minor": 2
}
